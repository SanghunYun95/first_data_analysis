{
 "cells": [
  {
   "cell_type": "code",
   "execution_count": 2,
   "id": "88606367",
   "metadata": {},
   "outputs": [],
   "source": [
    "import csv\n",
    "data_file = open('./tmp_csv.csv', 'w', encoding='utf-8-sig', newline='')\n",
    "data_write = csv.writer(data_file, delimiter=',')\n",
    "data_write.writerow(['1', '2', '3'])\n",
    "data_file.close()"
   ]
  },
  {
   "cell_type": "code",
   "execution_count": 5,
   "id": "5d651b5e",
   "metadata": {},
   "outputs": [],
   "source": [
    "# with을 통한 자동 닫기\n",
    "\n",
    "import csv\n",
    "with open('./tmp_csv.csv', 'w', encoding='utf-8-sig', newline='') as writer_csv:\n",
    "    writer = csv.writer(writer_csv, delimiter=',')\n",
    "    writer.writerow(['love'] * 3 + ['banana']) "
   ]
  },
  {
   "cell_type": "code",
   "execution_count": 9,
   "id": "d6ffffed",
   "metadata": {},
   "outputs": [],
   "source": [
    "# dictionary 형태로 저장 (필드)\n",
    "\n",
    "import csv\n",
    "with open('./tmp_csv.csv', 'w', encoding='utf-8-sig', newline='') as writer_csv:\n",
    "    field_name_list = ['First Name', 'Last Name'] # 필드명 정의\n",
    "    writer = csv.DictWriter(writer_csv, fieldnames=field_name_list)\n",
    "    writer.writeheader() # 헤더 선언\n",
    "    writer.writerow({'First Name': 'Dave', 'Last Name': 'Lee'})\n",
    "    writer.writerow({'First Name': 'Robin', 'Last Name': 'Park'})\n"
   ]
  },
  {
   "cell_type": "code",
   "execution_count": 10,
   "id": "428206d5",
   "metadata": {},
   "outputs": [
    {
     "name": "stdout",
     "output_type": "stream",
     "text": [
      "Dave Lee\n",
      "Robin Park\n"
     ]
    }
   ],
   "source": [
    "# dictionary 형태 파일 읽기\n",
    "\n",
    "import csv\n",
    "with open('./tmp_csv.csv', 'r', encoding='utf-8-sig') as reader_csv:\n",
    "    reader = csv.DictReader(reader_csv)\n",
    "    for row in reader:\n",
    "        print(row['First Name'], row['Last Name'])"
   ]
  }
 ],
 "metadata": {
  "kernelspec": {
   "display_name": "Python 3",
   "language": "python",
   "name": "python3"
  },
  "language_info": {
   "codemirror_mode": {
    "name": "ipython",
    "version": 3
   },
   "file_extension": ".py",
   "mimetype": "text/x-python",
   "name": "python",
   "nbconvert_exporter": "python",
   "pygments_lexer": "ipython3",
   "version": "3.9.5"
  }
 },
 "nbformat": 4,
 "nbformat_minor": 5
}
