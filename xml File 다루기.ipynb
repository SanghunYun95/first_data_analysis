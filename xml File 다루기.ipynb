{
 "cells": [
  {
   "cell_type": "code",
   "execution_count": null,
   "id": "a4bfdbc7",
   "metadata": {},
   "outputs": [],
   "source": [
    "# <?xml version=\"1.0\"?>\n",
    "# <users>\n",
    "#     <user rank=\"1\">\n",
    "#         <name>잔재미코딩</name>\n",
    "#         <age>30</age>\n",
    "#     </user>\n",
    "#     <user rank=\"2\">\n",
    "#         <name>Dave Lee</name>\n",
    "#         <age>21</age>\n",
    "#     </user>\n",
    "# </users>"
   ]
  },
  {
   "cell_type": "markdown",
   "id": "23cf6c58",
   "metadata": {},
   "source": [
    "#### 모듈 설치가 안되어 있다면 코드상에서 직접\n",
    "#### !pip install ~~~ "
   ]
  },
  {
   "cell_type": "code",
   "execution_count": 3,
   "id": "672fc576",
   "metadata": {},
   "outputs": [
    {
     "name": "stdout",
     "output_type": "stream",
     "text": [
      "\n",
      "잔재미코딩\n",
      "30\n",
      "\n",
      "\n",
      "Dave Lee\n",
      "21\n",
      "\n",
      "------------------------------\n",
      "이름 :  잔재미코딩\n",
      "나이 :  30\n",
      "이름 :  Dave Lee\n",
      "나이 :  21\n"
     ]
    }
   ],
   "source": [
    "from bs4 import BeautifulSoup\n",
    "\n",
    "data_file = open('./materials/00_materials/00_data/users.xml', 'r', encoding='utf-8-sig')\n",
    "soup = BeautifulSoup(data_file, 'lxml')  # pip install lxml\n",
    "\n",
    "users = soup.select('user')\n",
    "\n",
    "# user 태그의 모든 데이터 추출\n",
    "for user in users:\n",
    "    print(user.text)\n",
    "\n",
    "    \n",
    "print('-'* 30)   \n",
    "\n",
    "\n",
    "# user 내부의 특정 데이터 추출\n",
    "# 여기서 name age 태그는 user별로 1개씩 존재하기 때문에 select_one()을 사용하면 된다\n",
    "for user in users:\n",
    "    print('이름 : ', user.select_one('name').text)\n",
    "    print('나이 : ', user.select_one('age').text)\n",
    "\n",
    "    \n",
    "    "
   ]
  }
 ],
 "metadata": {
  "kernelspec": {
   "display_name": "Python 3",
   "language": "python",
   "name": "python3"
  },
  "language_info": {
   "codemirror_mode": {
    "name": "ipython",
    "version": 3
   },
   "file_extension": ".py",
   "mimetype": "text/x-python",
   "name": "python",
   "nbconvert_exporter": "python",
   "pygments_lexer": "ipython3",
   "version": "3.9.5"
  }
 },
 "nbformat": 4,
 "nbformat_minor": 5
}
