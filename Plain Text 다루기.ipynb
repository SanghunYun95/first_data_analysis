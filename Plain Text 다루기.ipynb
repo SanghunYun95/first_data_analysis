{
 "cells": [
  {
   "cell_type": "markdown",
   "id": "4b79abb1",
   "metadata": {},
   "source": [
    "## File Read and Write"
   ]
  },
  {
   "cell_type": "code",
   "execution_count": 3,
   "id": "3b9523ba",
   "metadata": {},
   "outputs": [],
   "source": [
    "file_data = open ('./text_data_practice.txt', 'w', encoding='utf-8-sig')\n",
    "file_data.write('유치원 A\\n')\n",
    "file_data.write('초등학교 B\\n')\n",
    "file_data.write('중학교 C\\n')\n",
    "file_data.write('고등학교 D\\n')\n",
    "file_data.close()"
   ]
  },
  {
   "cell_type": "code",
   "execution_count": 9,
   "id": "21dcbdbd",
   "metadata": {},
   "outputs": [],
   "source": [
    "file_data = open ('./text_data_practice.txt', 'r', encoding='utf-8-sig')\n",
    "read_lines = file_data.readlines()\n",
    "read_lines\n",
    "\n",
    "file_data.close()"
   ]
  },
  {
   "cell_type": "code",
   "execution_count": 12,
   "id": "3107ded0",
   "metadata": {},
   "outputs": [],
   "source": [
    "file_data = open ('./text_data_practice.txt', 'a', encoding='utf-8-sig') \n",
    "file_data.write('대학교 E')\n",
    "\n",
    "file_data = open ('./text_data_practice.txt', 'r', encoding='utf-8-sig')\n",
    "read_lines = file_data.readlines()\n",
    "read_lines\n",
    "\n",
    "file_data.close()"
   ]
  }
 ],
 "metadata": {
  "kernelspec": {
   "display_name": "Python 3",
   "language": "python",
   "name": "python3"
  },
  "language_info": {
   "codemirror_mode": {
    "name": "ipython",
    "version": 3
   },
   "file_extension": ".py",
   "mimetype": "text/x-python",
   "name": "python",
   "nbconvert_exporter": "python",
   "pygments_lexer": "ipython3",
   "version": "3.9.5"
  }
 },
 "nbformat": 4,
 "nbformat_minor": 5
}
