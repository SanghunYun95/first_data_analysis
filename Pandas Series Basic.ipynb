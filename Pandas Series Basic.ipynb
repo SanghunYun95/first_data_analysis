{
 "cells": [
  {
   "cell_type": "markdown",
   "id": "5d1ed946",
   "metadata": {},
   "source": [
    "#### Series : 엑셀의 컬럼 1개와 같음 1차원 데이터\n",
    "#### Data Frame : 다수의 컬럼 (values) 2차원 데이터\n",
    "\n",
    "#### Series에는 index가 있고 0부터 시작한다.\n",
    "#### Series의 index는 수정이 가능하다.\n",
    "\n",
    "#### Data Frame에는 컬럼이 있다."
   ]
  },
  {
   "cell_type": "code",
   "execution_count": 1,
   "id": "3eb5df6f",
   "metadata": {},
   "outputs": [],
   "source": [
    "import pandas as pd"
   ]
  },
  {
   "cell_type": "code",
   "execution_count": 2,
   "id": "ce2c039f",
   "metadata": {},
   "outputs": [
    {
     "data": {
      "text/plain": [
       "0    70\n",
       "1    60\n",
       "2    90\n",
       "dtype: int64"
      ]
     },
     "execution_count": 2,
     "metadata": {},
     "output_type": "execute_result"
    }
   ],
   "source": [
    "seriesdata = pd.Series([70, 60, 90])\n",
    "seriesdata"
   ]
  },
  {
   "cell_type": "code",
   "execution_count": 7,
   "id": "a1ec777f",
   "metadata": {},
   "outputs": [
    {
     "data": {
      "text/plain": [
       "array([70, 60, 90], dtype=int64)"
      ]
     },
     "execution_count": 7,
     "metadata": {},
     "output_type": "execute_result"
    }
   ],
   "source": [
    "seriesdata = pd.Series([70, 60, 90], index=['국어', '영어', '수학'])\n",
    "seriesdata"
   ]
  },
  {
   "cell_type": "code",
   "execution_count": null,
   "id": "9974bfe1",
   "metadata": {},
   "outputs": [],
   "source": [
    "# index 수정하기\n",
    "seriesdata.index = ['미술', '음악', '체육']\n",
    "seriesdata\n",
    "\n",
    "# 값 가져오기\n",
    "seriesdata.values"
   ]
  },
  {
   "cell_type": "code",
   "execution_count": 8,
   "id": "15534ebd",
   "metadata": {},
   "outputs": [
    {
     "name": "stdout",
     "output_type": "stream",
     "text": [
      "70\n",
      "70\n"
     ]
    }
   ],
   "source": [
    "# 인덱스 이름으로 가져오기\n",
    "print(seriesdata['미술'])\n",
    "\n",
    "# 인덱스 번호로 가져오기 (position)\n",
    "print(seriesdata[0])"
   ]
  },
  {
   "cell_type": "code",
   "execution_count": 9,
   "id": "e2177737",
   "metadata": {},
   "outputs": [
    {
     "data": {
      "text/plain": [
       "미술     70\n",
       "음악    100\n",
       "체육     90\n",
       "dtype: int64"
      ]
     },
     "execution_count": 9,
     "metadata": {},
     "output_type": "execute_result"
    }
   ],
   "source": [
    "# 값 수정하기\n",
    "seriesdata['음악'] = 100\n",
    "seriesdata"
   ]
  },
  {
   "cell_type": "code",
   "execution_count": 10,
   "id": "c23c4069",
   "metadata": {},
   "outputs": [
    {
     "data": {
      "text/plain": [
       "미술     70\n",
       "음악    100\n",
       "dtype: int64"
      ]
     },
     "execution_count": 10,
     "metadata": {},
     "output_type": "execute_result"
    }
   ],
   "source": [
    "# 값 삭제하기\n",
    "del seriesdata['체육']\n",
    "seriesdata"
   ]
  },
  {
   "cell_type": "code",
   "execution_count": 15,
   "id": "6c1849f6",
   "metadata": {},
   "outputs": [
    {
     "data": {
      "text/plain": [
       "0    1\n",
       "1    2\n",
       "2    3\n",
       "dtype: object"
      ]
     },
     "execution_count": 15,
     "metadata": {},
     "output_type": "execute_result"
    }
   ],
   "source": [
    "# 복합 타입인 경우 dtype: object\n",
    "seriesdata = pd.Series(['1', 2, 3])\n",
    "seriesdata"
   ]
  },
  {
   "cell_type": "code",
   "execution_count": 14,
   "id": "2dde6fef",
   "metadata": {},
   "outputs": [
    {
     "data": {
      "text/plain": [
       "0    1.0\n",
       "1    2.0\n",
       "2    3.0\n",
       "dtype: float64"
      ]
     },
     "execution_count": 14,
     "metadata": {},
     "output_type": "execute_result"
    }
   ],
   "source": [
    "# 타입 변환\n",
    "seriesdata = pd.Series([1, 2, 3])\n",
    "seriesdata\n",
    "\n",
    "# int64 --> float \n",
    "seriesdata.astype('float')   # seriesdata 한번더 안써줘도 나타남"
   ]
  }
 ],
 "metadata": {
  "kernelspec": {
   "display_name": "Python 3",
   "language": "python",
   "name": "python3"
  },
  "language_info": {
   "codemirror_mode": {
    "name": "ipython",
    "version": 3
   },
   "file_extension": ".py",
   "mimetype": "text/x-python",
   "name": "python",
   "nbconvert_exporter": "python",
   "pygments_lexer": "ipython3",
   "version": "3.9.5"
  }
 },
 "nbformat": 4,
 "nbformat_minor": 5
}
