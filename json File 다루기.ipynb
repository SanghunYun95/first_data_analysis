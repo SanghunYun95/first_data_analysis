{
 "cells": [
  {
   "cell_type": "code",
   "execution_count": 6,
   "id": "fa7f0c5e",
   "metadata": {},
   "outputs": [
    {
     "name": "stdout",
     "output_type": "stream",
     "text": [
      "dict_keys(['kind', 'etag', 'items'])\n",
      "------------------------------\n",
      "youtube#videoCategory >  Film & Animation\n",
      "youtube#videoCategory >  Autos & Vehicles\n",
      "youtube#videoCategory >  Music\n",
      "youtube#videoCategory >  Pets & Animals\n",
      "youtube#videoCategory >  Sports\n",
      "youtube#videoCategory >  Short Movies\n",
      "youtube#videoCategory >  Travel & Events\n",
      "youtube#videoCategory >  Gaming\n",
      "youtube#videoCategory >  Videoblogging\n",
      "youtube#videoCategory >  People & Blogs\n",
      "youtube#videoCategory >  Comedy\n",
      "youtube#videoCategory >  Entertainment\n",
      "youtube#videoCategory >  News & Politics\n",
      "youtube#videoCategory >  Howto & Style\n",
      "youtube#videoCategory >  Education\n",
      "youtube#videoCategory >  Science & Technology\n",
      "youtube#videoCategory >  Nonprofits & Activism\n",
      "youtube#videoCategory >  Movies\n",
      "youtube#videoCategory >  Anime/Animation\n",
      "youtube#videoCategory >  Action/Adventure\n",
      "youtube#videoCategory >  Classics\n",
      "youtube#videoCategory >  Comedy\n",
      "youtube#videoCategory >  Documentary\n",
      "youtube#videoCategory >  Drama\n",
      "youtube#videoCategory >  Family\n",
      "youtube#videoCategory >  Foreign\n",
      "youtube#videoCategory >  Horror\n",
      "youtube#videoCategory >  Sci-Fi/Fantasy\n",
      "youtube#videoCategory >  Thriller\n",
      "youtube#videoCategory >  Shorts\n",
      "youtube#videoCategory >  Shows\n",
      "youtube#videoCategory >  Trailers\n"
     ]
    }
   ],
   "source": [
    "import json\n",
    "\n",
    "with open('./materials/00_materials/00_data/US_category_id.json', 'r', encoding='utf-8-sig') as json_file:\n",
    "    json_data = json.load(json_file)\n",
    "    print(json_data.keys())\n",
    "    \n",
    "    print('-'*30)\n",
    "    \n",
    "    for item in json_data['items']:\n",
    "        print(item['kind'], '> ', item['snippet']['title'])\n"
   ]
  }
 ],
 "metadata": {
  "kernelspec": {
   "display_name": "Python 3",
   "language": "python",
   "name": "python3"
  },
  "language_info": {
   "codemirror_mode": {
    "name": "ipython",
    "version": 3
   },
   "file_extension": ".py",
   "mimetype": "text/x-python",
   "name": "python",
   "nbconvert_exporter": "python",
   "pygments_lexer": "ipython3",
   "version": "3.9.5"
  }
 },
 "nbformat": 4,
 "nbformat_minor": 5
}
